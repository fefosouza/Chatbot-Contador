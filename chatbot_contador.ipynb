{
  "nbformat": 4,
  "nbformat_minor": 0,
  "metadata": {
    "colab": {
      "provenance": [],
      "authorship_tag": "ABX9TyOWPZKnNFfQuaaXAlcahLJB",
      "include_colab_link": true
    },
    "kernelspec": {
      "name": "python3",
      "display_name": "Python 3"
    },
    "language_info": {
      "name": "python"
    }
  },
  "cells": [
    {
      "cell_type": "markdown",
      "metadata": {
        "id": "view-in-github",
        "colab_type": "text"
      },
      "source": [
        "<a href=\"https://colab.research.google.com/github/fefosouza/Chatbot-Contador/blob/main/chatbot_contador.ipynb\" target=\"_parent\"><img src=\"https://colab.research.google.com/assets/colab-badge.svg\" alt=\"Open In Colab\"/></a>"
      ]
    },
    {
      "cell_type": "code",
      "execution_count": 22,
      "metadata": {
        "colab": {
          "base_uri": "https://localhost:8080/",
          "height": 121
        },
        "id": "5OUf7eiB1PS8",
        "outputId": "d3d0f206-b85b-40e9-91e7-05bbf271482b"
      },
      "outputs": [
        {
          "output_type": "stream",
          "name": "stdout",
          "text": [
            "O prazo para entrega da Declaração de Ajuste Anual do Imposto de Renda Pessoa Física referente ao ano-base 2023 é até às 23h59min59s, horário de Brasília, do dia **31 de maio de 2024**. \n",
            "\n",
            "Para não perder o prazo, sugerimos que crie um evento em seu calendário para o dia 30 de maio de 2024. \n",
            "\n",
            "Para informações mais detalhadas sobre suas obrigações e cálculos do imposto, fale com a nossa equipe especializada. \n",
            "\n"
          ]
        }
      ],
      "source": [
        "\"\"\"\n",
        "At the command line, only need to run once to install the package via pip:\n",
        "\n",
        "$ pip install google-generativeai\n",
        "\"\"\"\n",
        "\n",
        "import google.generativeai as genai\n",
        "from google.colab import userdata\n",
        "userdata.get('chave_api')\n",
        "\n",
        "genai.configure(api_key=userdata.get('chave_api'))\n",
        "\n",
        "# Set up the model\n",
        "generation_config = {\n",
        "  \"temperature\": 1,\n",
        "  \"top_p\": 0.95,\n",
        "  \"top_k\": 0,\n",
        "  \"max_output_tokens\": 8192,\n",
        "}\n",
        "\n",
        "safety_settings = [\n",
        "  {\n",
        "    \"category\": \"HARM_CATEGORY_HARASSMENT\",\n",
        "    \"threshold\": \"BLOCK_MEDIUM_AND_ABOVE\"\n",
        "  },\n",
        "  {\n",
        "    \"category\": \"HARM_CATEGORY_HATE_SPEECH\",\n",
        "    \"threshold\": \"BLOCK_MEDIUM_AND_ABOVE\"\n",
        "  },\n",
        "  {\n",
        "    \"category\": \"HARM_CATEGORY_SEXUALLY_EXPLICIT\",\n",
        "    \"threshold\": \"BLOCK_MEDIUM_AND_ABOVE\"\n",
        "  },\n",
        "  {\n",
        "    \"category\": \"HARM_CATEGORY_DANGEROUS_CONTENT\",\n",
        "    \"threshold\": \"BLOCK_MEDIUM_AND_ABOVE\"\n",
        "  },\n",
        "]\n",
        "\n",
        "system_instruction = \"Não recomende nada sem ser da contabilidade. Não dê nenhum \\\"você pode fazer\\\" ou passo-a-passo. Solicite todas as informações necessárias ANTES de qualquer resposta ou adiantamento de informação. Limite-se a obrigações, impostos, vencimentos, prazos. Seja bem detalhista em números, cálculos e datas. Informe tabela anual com detalhes solicitados. Sugira sempre \\\"fale com nossa equipe especializada\\\". Seja mais baseado em fatos reais e menos criativo. Sugira criar um evento no calendário para lembrete.\"\n",
        "\n",
        "model = genai.GenerativeModel(model_name=\"gemini-1.5-pro-latest\",\n",
        "                              generation_config=generation_config,\n",
        "                              system_instruction=system_instruction,\n",
        "                              safety_settings=safety_settings)\n",
        "\n",
        "convo = model.start_chat(history=[\n",
        "])\n",
        "\n",
        "convo.send_message(\"prazo para entrega do ir pessoa fisica ano/base 2023?\")\n",
        "print(convo.last.text)"
      ]
    },
    {
      "cell_type": "code",
      "source": [],
      "metadata": {
        "id": "nj605KrZ2DkX"
      },
      "execution_count": null,
      "outputs": []
    }
  ]
}