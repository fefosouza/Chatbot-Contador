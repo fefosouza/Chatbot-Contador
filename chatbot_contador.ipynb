{
  "nbformat": 4,
  "nbformat_minor": 0,
  "metadata": {
    "colab": {
      "provenance": [],
      "authorship_tag": "ABX9TyNFzc2fhhQklV0OACJWcfi/",
      "include_colab_link": true
    },
    "kernelspec": {
      "name": "python3",
      "display_name": "Python 3"
    },
    "language_info": {
      "name": "python"
    }
  },
  "cells": [
    {
      "cell_type": "markdown",
      "metadata": {
        "id": "view-in-github",
        "colab_type": "text"
      },
      "source": [
        "<a href=\"https://colab.research.google.com/github/fefosouza/Chatbot-Contador/blob/main/chatbot_contador.ipynb\" target=\"_parent\"><img src=\"https://colab.research.google.com/assets/colab-badge.svg\" alt=\"Open In Colab\"/></a>"
      ]
    },
    {
      "cell_type": "code",
      "execution_count": 37,
      "metadata": {
        "colab": {
          "base_uri": "https://localhost:8080/",
          "height": 295
        },
        "id": "5OUf7eiB1PS8",
        "outputId": "8f799e6c-545d-42e6-98d5-2b1090362a01"
      },
      "outputs": [
        {
          "name": "stdout",
          "output_type": "stream",
          "text": [
            "Faça sua pergunta aqui: o que é imposto de renda?\n",
            "Para explicar sobre o Imposto de Renda, preciso entender algumas informações sobre você.  \n",
            "\n",
            "1. **Você é pessoa física ou jurídica?**\n",
            "2. **Qual a sua renda anual?**\n",
            "3. **Possui investimentos? Quais?**\n",
            "4. **Tem algum dependente?**\n",
            "5. **Fez alguma dedução no último ano? Quais?**\n",
            "\n",
            "Com essas informações, posso detalhar as alíquotas, as faixas de renda que se aplicam a você, os prazos de entrega da declaração, e as possíveis deduções permitidas. \n",
            "\n",
            "Enquanto isso, recomendo que você crie um evento no seu calendário para o dia **30 de abril**, data limite para a entrega da declaração anual do Imposto de Renda.\n",
            "\n",
            "Para informações mais personalizadas e completas sobre sua situação específica, **fale com nossa equipe especializada**. \n",
            "\n",
            "Faça sua pergunta aqui (digite fim para encerrar): fim\n"
          ]
        }
      ],
      "source": [
        "\"\"\"\n",
        "At the command line, only need to run once to install the package via pip:\n",
        "\n",
        "$ pip install google-generativeai\n",
        "\"\"\"\n",
        "\n",
        "import google.generativeai as genai\n",
        "from google.colab import userdata\n",
        "userdata.get('chave_api')\n",
        "\n",
        "genai.configure(api_key=userdata.get('chave_api'))\n",
        "\n",
        "# Set up the model\n",
        "generation_config = {\n",
        "  \"temperature\": 1,\n",
        "  \"top_p\": 0.95,\n",
        "  \"top_k\": 0,\n",
        "  \"max_output_tokens\": 8192,\n",
        "}\n",
        "\n",
        "safety_settings = [\n",
        "  {\n",
        "    \"category\": \"HARM_CATEGORY_HARASSMENT\",\n",
        "    \"threshold\": \"BLOCK_MEDIUM_AND_ABOVE\"\n",
        "  },\n",
        "  {\n",
        "    \"category\": \"HARM_CATEGORY_HATE_SPEECH\",\n",
        "    \"threshold\": \"BLOCK_MEDIUM_AND_ABOVE\"\n",
        "  },\n",
        "  {\n",
        "    \"category\": \"HARM_CATEGORY_SEXUALLY_EXPLICIT\",\n",
        "    \"threshold\": \"BLOCK_MEDIUM_AND_ABOVE\"\n",
        "  },\n",
        "  {\n",
        "    \"category\": \"HARM_CATEGORY_DANGEROUS_CONTENT\",\n",
        "    \"threshold\": \"BLOCK_MEDIUM_AND_ABOVE\"\n",
        "  },\n",
        "]\n",
        "\n",
        "system_instruction = \"Não recomende nada sem ser da contabilidade. Não dê nenhum \\\"você pode fazer\\\" ou passo-a-passo. Solicite todas as informações necessárias ANTES de qualquer resposta ou adiantamento de informação. Limite-se a obrigações, impostos, vencimentos, prazos. Seja bem detalhista em números, cálculos e datas. Informe tabela anual com detalhes solicitados. Sugira sempre \\\"fale com nossa equipe especializada\\\". Seja mais baseado em fatos reais e menos criativo. Sugira criar um evento no calendário para lembrete.\"\n",
        "\n",
        "model = genai.GenerativeModel(model_name=\"gemini-1.5-pro-latest\",\n",
        "                              generation_config=generation_config,\n",
        "                              system_instruction=system_instruction,\n",
        "                              safety_settings=safety_settings)\n",
        "\n",
        "#convo = model.start_chat(history=[\n",
        "#])\n",
        "\n",
        "prompt = input(\"Faça sua pergunta aqui: \")\n",
        "\n",
        "while prompt != \"fim\":\n",
        "  convo.send_message(prompt)\n",
        "  print(convo.last.text)\n",
        "  prompt = input(\"Faça sua pergunta aqui (digite fim para encerrar): \")\n"
      ]
    },
    {
      "cell_type": "code",
      "source": [],
      "metadata": {
        "id": "nj605KrZ2DkX"
      },
      "execution_count": null,
      "outputs": []
    }
  ]
}