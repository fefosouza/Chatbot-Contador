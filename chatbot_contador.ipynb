{
  "nbformat": 4,
  "nbformat_minor": 0,
  "metadata": {
    "colab": {
      "provenance": [],
      "authorship_tag": "ABX9TyOoObyod4ci3LzZaVwRM0nY",
      "include_colab_link": true
    },
    "kernelspec": {
      "name": "python3",
      "display_name": "Python 3"
    },
    "language_info": {
      "name": "python"
    }
  },
  "cells": [
    {
      "cell_type": "markdown",
      "metadata": {
        "id": "view-in-github",
        "colab_type": "text"
      },
      "source": [
        "<a href=\"https://colab.research.google.com/github/fefosouza/Chatbot-Contador/blob/main/chatbot_contador.ipynb\" target=\"_parent\"><img src=\"https://colab.research.google.com/assets/colab-badge.svg\" alt=\"Open In Colab\"/></a>"
      ]
    },
    {
      "cell_type": "code",
      "execution_count": 10,
      "metadata": {
        "colab": {
          "base_uri": "https://localhost:8080/",
          "height": 208
        },
        "id": "5OUf7eiB1PS8",
        "outputId": "4959acce-8eea-4366-f0b7-8f5964ba0e99"
      },
      "outputs": [
        {
          "output_type": "stream",
          "name": "stdout",
          "text": [
            "Para auxiliar com seu Imposto de Renda, preciso de algumas informações:\n",
            "\n",
            "1. **Qual é o seu tipo de ocupação?** (Assalariado, autônomo, empresário, etc.)\n",
            "2. **Você possui outros rendimentos além do seu trabalho principal?** (Aluguéis, investimentos, etc.)\n",
            "3. **Teve alguma dedução durante o ano?** (Pensão alimentícia, despesas médicas, educação, etc.)\n",
            "4. **Qual o ano-calendário que você deseja declarar?** \n",
            "\n",
            "Com essas informações, posso te auxiliar com as obrigações, impostos, vencimentos e prazos referentes ao seu Imposto de Renda.\n",
            "\n",
            "Enquanto isso, **fale com nossa equipe especializada** para receber auxílio completo na declaração do seu Imposto de Renda. \n",
            "\n"
          ]
        }
      ],
      "source": [
        "\"\"\"\n",
        "At the command line, only need to run once to install the package via pip:\n",
        "\n",
        "$ pip install google-generativeai\n",
        "\"\"\"\n",
        "\n",
        "import google.generativeai as genai\n",
        "from google.colab import userdata\n",
        "userdata.get('chave_api')\n",
        "\n",
        "genai.configure(api_key=userdata.get('chave_api'))\n",
        "\n",
        "# Set up the model\n",
        "generation_config = {\n",
        "  \"temperature\": 1,\n",
        "  \"top_p\": 0.95,\n",
        "  \"top_k\": 0,\n",
        "  \"max_output_tokens\": 8192,\n",
        "}\n",
        "\n",
        "safety_settings = [\n",
        "  {\n",
        "    \"category\": \"HARM_CATEGORY_HARASSMENT\",\n",
        "    \"threshold\": \"BLOCK_MEDIUM_AND_ABOVE\"\n",
        "  },\n",
        "  {\n",
        "    \"category\": \"HARM_CATEGORY_HATE_SPEECH\",\n",
        "    \"threshold\": \"BLOCK_MEDIUM_AND_ABOVE\"\n",
        "  },\n",
        "  {\n",
        "    \"category\": \"HARM_CATEGORY_SEXUALLY_EXPLICIT\",\n",
        "    \"threshold\": \"BLOCK_MEDIUM_AND_ABOVE\"\n",
        "  },\n",
        "  {\n",
        "    \"category\": \"HARM_CATEGORY_DANGEROUS_CONTENT\",\n",
        "    \"threshold\": \"BLOCK_MEDIUM_AND_ABOVE\"\n",
        "  },\n",
        "]\n",
        "\n",
        "system_instruction = \"Não recomende nada sem ser da contabilidade. Não dê nenhum \\\"você pode fazer\\\" ou passo-a-passo. Solicite todas as informações necessárias ANTES de qualquer resposta ou adiantamento de informação. Limite-se a obrigações, impostos, vencimentos, prazos. Informe tabela anual com detalhes solicitados. Sugira sempre \\\"fale com nossa equipe especializada\\\". \"\n",
        "\n",
        "model = genai.GenerativeModel(model_name=\"gemini-1.5-pro-latest\",\n",
        "                              generation_config=generation_config,\n",
        "                              system_instruction=system_instruction,\n",
        "                              safety_settings=safety_settings)\n",
        "\n",
        "convo = model.start_chat(history=[\n",
        "])\n",
        "\n",
        "convo.send_message(\"o que devo colocar no meu IR?\")\n",
        "print(convo.last.text)"
      ]
    },
    {
      "cell_type": "code",
      "source": [],
      "metadata": {
        "id": "nj605KrZ2DkX"
      },
      "execution_count": null,
      "outputs": []
    }
  ]
}